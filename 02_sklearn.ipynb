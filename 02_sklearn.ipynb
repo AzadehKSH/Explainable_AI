{
 "cells": [
  {
   "cell_type": "markdown",
   "metadata": {},
   "source": [
    "# Exercise 02 - Introduction to Scikit-Learn\n",
    "\n",
    "After completing this notebook, you should be able to:\n",
    "* train a classifier on a given dataset using scikit-learn\n",
    "* navigate the scikit-learn documentation\n",
    "* evaluate a model using scikit-learn\n",
    "\n",
    "Ressources used: \n",
    "* https://scikit-learn.org/stable/tutorial/statistical_inference/supervised_learning.html\n",
    "* https://scikit-learn.org/stable/auto_examples/classification/plot_digits_classification.html\n",
    "* https://scikit-learn.org/stable/tutorial/statistical_inference/model_selection.html\n",
    "* https://scikit-learn.org/stable/tutorial/statistical_inference/putting_together.html"
   ]
  },
  {
   "cell_type": "markdown",
   "metadata": {},
   "source": [
    "## Training a Simple Classifier\n",
    "\n",
    "We will use the 'digits' dataset consisting of 8x8 images of handwritten digits."
   ]
  },
  {
   "cell_type": "code",
   "execution_count": 46,
   "metadata": {},
   "outputs": [
    {
     "name": "stdout",
     "output_type": "stream",
     "text": [
      "Target names: [0 1 2 3 4 5 6 7 8 9]\n"
     ]
    },
    {
     "data": {
      "image/png": "[encoded data removed]",
      "text/plain": [
       "<Figure size 720x216 with 4 Axes>"
      ]
     },
     "metadata": {
      "needs_background": "light"
     },
     "output_type": "display_data"
    }
   ],
   "source": [
    "import numpy as np\n",
    "import matplotlib.pyplot as plt\n",
    "from sklearn import datasets\n",
    "\n",
    "\n",
    "# TODO: load the digits dataset (look at the documentation to see how to do it)\n",
    "db = datasets.load_digits()\n",
    "\n",
    "# TODO: print out the different classes\n",
    "print(\"Target names:\", db.target_names)\n",
    "#print(db.data.shape)\n",
    "# TODO: visually inspect the first 4 instances (use the matplotlib library) and their labels\n",
    "fig, axes = plt.subplots(1, 4, figsize=(10, 3))\n",
    "for i in range(4):\n",
    "    axes[i].imshow(db.images[i], cmap='gray')\n",
    "    axes[i].set_title(f\"Label: {db.target[i]}\")\n",
    "    axes[i].axis('off')\n",
    "plt.show()"
   ]
  },
  {
   "cell_type": "markdown",
   "metadata": {},
   "source": [
    "Our goal is now to train a logistic regression model to predict the class of an instance of the iris dataset.\n",
    "Before we train the model, we have to split the data, since the evaluation would otherwise be not representative of future performance."
   ]
  },
  {
   "cell_type": "code",
   "execution_count": 64,
   "metadata": {},
   "outputs": [
    {
     "name": "stdout",
     "output_type": "stream",
     "text": [
      "(1437, 64) (360, 64) (1437,) (360,)\n"
     ]
    }
   ],
   "source": [
    "from sklearn import linear_model\n",
    "from sklearn import model_selection\n",
    "from sklearn import preprocessing\n",
    "from sklearn.model_selection import train_test_split\n",
    "\n",
    "# TODO: look in the documentation how to split the data into training and test data. \n",
    "# Then split the data. Use 20% for testing. Make sure that the split is reproducible.\n",
    "X_train, X_test, y_train, y_test = train_test_split(db.data, db.target, test_size=0.2, random_state=42)\n",
    "print(X_train.shape, X_test.shape, y_train.shape, y_test.shape)\n",
    "\n"
   ]
  },
  {
   "cell_type": "code",
   "execution_count": 65,
   "metadata": {},
   "outputs": [
    {
     "name": "stdout",
     "output_type": "stream",
     "text": [
      "[[ 0.         -0.34169755 -0.46336049 ...  1.05270303  0.45952251\n",
      "  -0.19710003]\n",
      " [ 0.         -0.34169755  0.78471641 ... -0.64451929 -0.50623083\n",
      "  -0.19710003]\n",
      " [ 0.         -0.34169755 -1.08739895 ... -0.13535259 -0.50623083\n",
      "  -0.19710003]\n",
      " ...\n",
      " [ 0.         -0.34169755  0.78471641 ...  1.56186972 -0.02335416\n",
      "  -0.19710003]\n",
      " [ 0.         -0.34169755 -0.87938613 ... -1.15368598 -0.50623083\n",
      "  -0.19710003]\n",
      " [ 0.         -0.34169755 -0.87938613 ... -0.98396375 -0.50623083\n",
      "  -0.19710003]] [[ 0.         -0.34169755 -1.08739895 ...  1.22242526  0.70096084\n",
      "  -0.19710003]\n",
      " [ 0.         -0.34169755  1.20074205 ... -0.98396375 -0.50623083\n",
      "  -0.19710003]\n",
      " [ 0.         -0.34169755  0.57670359 ...  0.20409187 -0.50623083\n",
      "  -0.19710003]\n",
      " ...\n",
      " [ 0.         -0.34169755  0.36869078 ...  0.54353633 -0.50623083\n",
      "  -0.19710003]\n",
      " [ 0.         -0.34169755  0.36869078 ...  1.56186972  0.45952251\n",
      "  -0.19710003]\n",
      " [ 0.         -0.34169755  1.8247805  ... -0.30507483 -0.50623083\n",
      "  -0.19710003]]\n"
     ]
    }
   ],
   "source": [
    "# TODO: use the StandardScaler to scale the inputs.\n",
    "from sklearn.preprocessing import StandardScaler\n",
    "scaler = StandardScaler()\n",
    "X_train = scaler.fit_transform(X_train)\n",
    "X_test = scaler.transform(X_test)\n",
    "# Q: Which inputs should it use?\n",
    "#X_train and X_test because they are contain the feature data for training and test.\n",
    "print(X_train, X_test)\n"
   ]
  },
  {
   "cell_type": "code",
   "execution_count": 66,
   "metadata": {},
   "outputs": [
    {
     "data": {
      "text/html": [
       "<style>#sk-container-id-8 {color: black;background-color: white;}#sk-container-id-8 pre{padding: 0;}#sk-container-id-8 div.sk-toggleable {background-color: white;}#sk-container-id-8 label.sk-toggleable__label {cursor: pointer;display: block;width: 100%;margin-bottom: 0;padding: 0.3em;box-sizing: border-box;text-align: center;}#sk-container-id-8 label.sk-toggleable__label-arrow:before {content: \"▸\";float: left;margin-right: 0.25em;color: #696969;}#sk-container-id-8 label.sk-toggleable__label-arrow:hover:before {color: black;}#sk-container-id-8 div.sk-estimator:hover label.sk-toggleable__label-arrow:before {color: black;}#sk-container-id-8 div.sk-toggleable__content {max-height: 0;max-width: 0;overflow: hidden;text-align: left;background-color: #f0f8ff;}#sk-container-id-8 div.sk-toggleable__content pre {margin: 0.2em;color: black;border-radius: 0.25em;background-color: #f0f8ff;}#sk-container-id-8 input.sk-toggleable__control:checked~div.sk-toggleable__content {max-height: 200px;max-width: 100%;overflow: auto;}#sk-container-id-8 input.sk-toggleable__control:checked~label.sk-toggleable__label-arrow:before {content: \"▾\";}#sk-container-id-8 div.sk-estimator input.sk-toggleable__control:checked~label.sk-toggleable__label {background-color: #d4ebff;}#sk-container-id-8 div.sk-label input.sk-toggleable__control:checked~label.sk-toggleable__label {background-color: #d4ebff;}#sk-container-id-8 input.sk-hidden--visually {border: 0;clip: rect(1px 1px 1px 1px);clip: rect(1px, 1px, 1px, 1px);height: 1px;margin: -1px;overflow: hidden;padding: 0;position: absolute;width: 1px;}#sk-container-id-8 div.sk-estimator {font-family: monospace;background-color: #f0f8ff;border: 1px dotted black;border-radius: 0.25em;box-sizing: border-box;margin-bottom: 0.5em;}#sk-container-id-8 div.sk-estimator:hover {background-color: #d4ebff;}#sk-container-id-8 div.sk-parallel-item::after {content: \"\";width: 100%;border-bottom: 1px solid gray;flex-grow: 1;}#sk-container-id-8 div.sk-label:hover label.sk-toggleable__label {background-color: #d4ebff;}#sk-container-id-8 div.sk-serial::before {content: \"\";position: absolute;border-left: 1px solid gray;box-sizing: border-box;top: 0;bottom: 0;left: 50%;z-index: 0;}#sk-container-id-8 div.sk-serial {display: flex;flex-direction: column;align-items: center;background-color: white;padding-right: 0.2em;padding-left: 0.2em;position: relative;}#sk-container-id-8 div.sk-item {position: relative;z-index: 1;}#sk-container-id-8 div.sk-parallel {display: flex;align-items: stretch;justify-content: center;background-color: white;position: relative;}#sk-container-id-8 div.sk-item::before, #sk-container-id-8 div.sk-parallel-item::before {content: \"\";position: absolute;border-left: 1px solid gray;box-sizing: border-box;top: 0;bottom: 0;left: 50%;z-index: -1;}#sk-container-id-8 div.sk-parallel-item {display: flex;flex-direction: column;z-index: 1;position: relative;background-color: white;}#sk-container-id-8 div.sk-parallel-item:first-child::after {align-self: flex-end;width: 50%;}#sk-container-id-8 div.sk-parallel-item:last-child::after {align-self: flex-start;width: 50%;}#sk-container-id-8 div.sk-parallel-item:only-child::after {width: 0;}#sk-container-id-8 div.sk-dashed-wrapped {border: 1px dashed gray;margin: 0 0.4em 0.5em 0.4em;box-sizing: border-box;padding-bottom: 0.4em;background-color: white;}#sk-container-id-8 div.sk-label label {font-family: monospace;font-weight: bold;display: inline-block;line-height: 1.2em;}#sk-container-id-8 div.sk-label-container {text-align: center;}#sk-container-id-8 div.sk-container {/* jupyter's `normalize.less` sets `[hidden] { display: none; }` but bootstrap.min.css set `[hidden] { display: none !important; }` so we also need the `!important` here to be able to override the default hidden behavior on the sphinx rendered scikit-learn.org. See: https://github.com/scikit-learn/scikit-learn/issues/21755 */display: inline-block !important;position: relative;}#sk-container-id-8 div.sk-text-repr-fallback {display: none;}</style><div id=\"sk-container-id-8\" class=\"sk-top-container\"><div class=\"sk-text-repr-fallback\"><pre>LogisticRegression(random_state=42)</pre><b>In a Jupyter environment, please rerun this cell to show the HTML representation or trust the notebook. <br />On GitHub, the HTML representation is unable to render, please try loading this page with nbviewer.org.</b></div><div class=\"sk-container\" hidden><div class=\"sk-item\"><div class=\"sk-estimator sk-toggleable\"><input class=\"sk-toggleable__control sk-hidden--visually\" id=\"sk-estimator-id-8\" type=\"checkbox\" checked><label for=\"sk-estimator-id-8\" class=\"sk-toggleable__label sk-toggleable__label-arrow\">LogisticRegression</label><div class=\"sk-toggleable__content\"><pre>LogisticRegression(random_state=42)</pre></div></div></div></div></div>"
      ],
      "text/plain": [
       "LogisticRegression(random_state=42)"
      ]
     },
     "execution_count": 66,
     "metadata": {},
     "output_type": "execute_result"
    }
   ],
   "source": [
    "# TODO: define a logistic regression model and train it using the training data. \n",
    "from sklearn.linear_model import LogisticRegression\n",
    "\n",
    "log_reg = LogisticRegression(random_state=42)\n",
    "log_reg.fit(X_train, y_train)\n"
   ]
  },
  {
   "cell_type": "code",
   "execution_count": 77,
   "metadata": {},
   "outputs": [
    {
     "name": "stdout",
     "output_type": "stream",
     "text": [
      "Accuracy: 0.9722222222222222\n"
     ]
    }
   ],
   "source": [
    "# Afterwards, print the accuracy of the model on the held-out data.\n",
    "y_pred_log = log_reg.predict(X_test)\n",
    "acc = log_reg.score(X_test, y_test)\n",
    "print(\"Accuracy:\", acc)\n",
    "\n",
    "# Again, keep reproducibility in mind."
   ]
  },
  {
   "cell_type": "markdown",
   "metadata": {},
   "source": [
    "If everything went well, the accuracy should be >95%. \n",
    "Use the `classification_report` and the `ConfusionMatrixDisplay` from sklearn.metrics to get more insights into the performance.\n",
    "\n",
    "Does anything catch your eye?"
   ]
  },
  {
   "cell_type": "code",
   "execution_count": 68,
   "metadata": {},
   "outputs": [],
   "source": [
    "from sklearn import metrics\n",
    "\n",
    "# TODO: print a detailed model evaluation"
   ]
  },
  {
   "cell_type": "code",
   "execution_count": 78,
   "metadata": {},
   "outputs": [
    {
     "name": "stdout",
     "output_type": "stream",
     "text": [
      "Classification report:\n",
      "               precision    recall  f1-score   support\n",
      "\n",
      "           0       1.00      1.00      1.00        33\n",
      "           1       0.97      1.00      0.98        28\n",
      "           2       1.00      1.00      1.00        33\n",
      "           3       0.97      0.97      0.97        34\n",
      "           4       1.00      0.98      0.99        46\n",
      "           5       0.94      0.94      0.94        47\n",
      "           6       0.97      0.97      0.97        35\n",
      "           7       1.00      0.97      0.99        34\n",
      "           8       0.97      0.97      0.97        30\n",
      "           9       0.93      0.95      0.94        40\n",
      "\n",
      "    accuracy                           0.97       360\n",
      "   macro avg       0.97      0.97      0.97       360\n",
      "weighted avg       0.97      0.97      0.97       360\n",
      "\n"
     ]
    }
   ],
   "source": [
    "#Classification report\n",
    "from sklearn.metrics import classification_report, ConfusionMatrixDisplay, confusion_matrix\n",
    "\n",
    "report = classification_report(y_test, y_pred_log)\n",
    "print(\"Classification report:\\n\", report)"
   ]
  },
  {
   "cell_type": "code",
   "execution_count": 79,
   "metadata": {},
   "outputs": [
    {
     "data": {
      "image/png": "[encoded data removed]",
      "text/plain": [
       "<Figure size 432x288 with 2 Axes>"
      ]
     },
     "metadata": {
      "needs_background": "light"
     },
     "output_type": "display_data"
    }
   ],
   "source": [
    "#Confusion matrix\n",
    "cm = confusion_matrix(y_test, y_pred_log)\n",
    "disp = ConfusionMatrixDisplay(confusion_matrix=cm, display_labels=np.unique(db.target))\n",
    "disp.plot()\n",
    "plt.show()"
   ]
  },
  {
   "cell_type": "markdown",
   "metadata": {},
   "source": [
    "## Switching the Model\n",
    "\n",
    "Now, use an SVM to classify the digits.\n",
    "Since all models share the same interface, this extremely easy in sklearn. "
   ]
  },
  {
   "cell_type": "code",
   "execution_count": 80,
   "metadata": {},
   "outputs": [
    {
     "name": "stdout",
     "output_type": "stream",
     "text": [
      "Accuracy: 0.975\n",
      "Classification report:\n",
      "               precision    recall  f1-score   support\n",
      "\n",
      "           0       0.97      1.00      0.99        33\n",
      "           1       0.97      1.00      0.98        28\n",
      "           2       1.00      1.00      1.00        33\n",
      "           3       0.94      0.97      0.96        34\n",
      "           4       1.00      1.00      1.00        46\n",
      "           5       0.96      0.96      0.96        47\n",
      "           6       0.97      0.97      0.97        35\n",
      "           7       0.97      0.97      0.97        34\n",
      "           8       1.00      0.93      0.97        30\n",
      "           9       0.97      0.95      0.96        40\n",
      "\n",
      "    accuracy                           0.97       360\n",
      "   macro avg       0.98      0.98      0.98       360\n",
      "weighted avg       0.98      0.97      0.97       360\n",
      "\n"
     ]
    },
    {
     "data": {
      "image/png": "[encoded data removed]",
      "text/plain": [
       "<Figure size 432x288 with 2 Axes>"
      ]
     },
     "metadata": {
      "needs_background": "light"
     },
     "output_type": "display_data"
    }
   ],
   "source": [
    "# TODO: instantiate and train an SVM (with linear kernel) on the previous task\n",
    "from sklearn import svm\n",
    "from sklearn.svm import SVC\n",
    "\n",
    "svm = SVC(kernel='linear', random_state=42)\n",
    "\n",
    "svm.fit(X_train, y_train)\n",
    "\n",
    "y_pred_svm = svm.predict(X_test)\n",
    "\n",
    "acc_svm = svm.score(X_test, y_test)\n",
    "\n",
    "print(\"Accuracy:\", acc_svm)\n",
    "\n",
    "report_svm = classification_report(y_test, y_pred_svm)\n",
    "print(\"Classification report:\\n\", report_svm)\n",
    "\n",
    "cm = confusion_matrix(y_test, y_pred_svm)\n",
    "disp = ConfusionMatrixDisplay(confusion_matrix=cm, display_labels=np.unique(db.target))\n",
    "disp.plot()\n",
    "\n",
    "plt.show()"
   ]
  },
  {
   "cell_type": "code",
   "execution_count": 84,
   "metadata": {},
   "outputs": [
    {
     "name": "stdout",
     "output_type": "stream",
     "text": [
      "Logistic Regression Accuracy: 0.9722\n",
      "SVM Accuracy: 0.9750\n"
     ]
    },
    {
     "data": {
      "text/plain": [
       "-0.002777777777777768"
      ]
     },
     "execution_count": 84,
     "metadata": {},
     "output_type": "execute_result"
    }
   ],
   "source": [
    "# How does the performance compare to the logistic regression model?\n",
    "#Slightly the SVM acc is better than the Log_Reg(0.002) and also in some cases in recal and F1 score SVM is better. Because of the clear \n",
    "#decision boundaries between the classes\n",
    "\n",
    "from sklearn.metrics import accuracy_score\n",
    "log_reg_acc = accuracy_score(y_test, y_pred_log)\n",
    "svm_acc = accuracy_score(y_test, y_pred_svm)\n",
    "\n",
    "print(\"Logistic Regression Accuracy: {:.4f}\".format(log_reg_acc))\n",
    "print(\"SVM Accuracy: {:.4f}\".format(svm_acc))\n",
    "\n",
    "diff = log_reg_acc - svm_acc\n",
    "diff\n"
   ]
  },
  {
   "cell_type": "markdown",
   "metadata": {},
   "source": [
    "## Cross-Validation\n",
    "\n",
    "So far, we have always used the same train-test split.\n",
    "But what if this split is easier for the SVM just by random chance.\n",
    "Now, we use cross validation to get a better idea about the performance."
   ]
  },
  {
   "cell_type": "code",
   "execution_count": null,
   "metadata": {},
   "outputs": [],
   "source": [
    "#SVM Cross validation"
   ]
  },
  {
   "cell_type": "code",
   "execution_count": 89,
   "metadata": {},
   "outputs": [
    {
     "name": "stdout",
     "output_type": "stream",
     "text": [
      "SVM cross validation: 0.9744 (+/- 0.0042)\n"
     ]
    }
   ],
   "source": [
    "\n",
    "from sklearn.model_selection import KFold\n",
    "\n",
    "# What do we have to do with respect to feature normalization?\n",
    "scaler = StandardScaler()\n",
    "X_scaled = scaler.fit_transform(db.data)\n",
    "\n",
    "svm = SVC(kernel='linear', random_state=42)\n",
    "\n",
    "# TODO: from sklearn.model_selection, use KFold to implement 3-fold cross validation.\n",
    "kf = KFold(n_splits=3, shuffle=True, random_state=42)\n",
    "\n",
    "# Estimate the performance of the svm using cross-validation.\n",
    "scores = []\n",
    "\n",
    "for train_index, test_index in kf.split(X_scaled):\n",
    "    X_train, X_test = X_scaled[train_index], X_scaled[test_index]\n",
    "    y_train, y_test = digits.target[train_index], digits.target[test_index]\n",
    "\n",
    "    svm.fit(X_train, y_train)\n",
    "    score = svm.score(X_test, y_test)\n",
    "    scores.append(score)\n",
    "\n",
    "print(\"SVM cross validation: {:.4f} (+/- {:.4f})\".format(np.mean(scores), np.std(scores) * 2))\n"
   ]
  },
  {
   "cell_type": "markdown",
   "metadata": {},
   "source": [
    "## Pipelines and Model Selection\n",
    "\n",
    "In the previous implementation of k-fold crossvalidation, you had to fit the scaler in the loop for every fold to avoid data leakage.\n",
    "If we had more preprocessing steps, this would significantly bloat our code. \n",
    "And writing the loop ourselves is not very nice in the first place.\n",
    "\n",
    "Sklearn offers a way to abstract pre- (and post) processing steps into a pipeline.\n",
    "Then it is possible with some helper functions to abstract most of the code we wrote away.\n",
    "\n",
    "Here, we will use it to easily do a hyperparameter search."
   ]
  },
  {
   "cell_type": "code",
   "execution_count": 108,
   "metadata": {},
   "outputs": [
    {
     "name": "stdout",
     "output_type": "stream",
     "text": [
      "Top hyperparameters: {'model__C': 0.053059844639466114, 'model__gamma': 0.5200393453092432}\n",
      "Top CV score: 0.9424122807017543\n"
     ]
    }
   ],
   "source": [
    "from sklearn.pipeline import Pipeline\n",
    "from sklearn.model_selection import RandomizedSearchCV\n",
    "from scipy.stats import uniform\n",
    "\n",
    "# TODO: write a pipeline with two steps: \"scaling\", and \"model\" (use a SVM again)\n",
    "pipeline = Pipeline([\n",
    "    ('scaling', StandardScaler()),\n",
    "    ('model', SVC(kernel='linear', random_state=42))\n",
    "])\n",
    "\n",
    "# TODO: Conduct a randomized search for optimal hyperparameters of the model.\n",
    "    # 1) Define the search space for kernel and regularization C\n",
    "hyperparameters = {\n",
    "    'model__C': uniform(loc=0, scale=4),\n",
    "    'model__gamma': ['scale', 'auto'] + list(uniform(loc=0, scale=1).rvs(10))\n",
    "}\n",
    "    # 2) Run the search and retrieve the best parameters using the pipeline of the previous step\n",
    "random_search = RandomizedSearchCV(\n",
    "    pipeline,\n",
    "    hyperparameters,\n",
    "    n_iter=20,\n",
    "    cv=3,\n",
    "    random_state=42\n",
    ")\n",
    "\n",
    "\n",
    "random_search.fit(X_train, y_train)\n",
    "print(\"Top hyperparameters:\", random_search.best_params_)\n",
    "print(\"Top CV score:\", random_search.best_score_)\n",
    "\n",
    "\n",
    "\n",
    "\n"
   ]
  },
  {
   "cell_type": "markdown",
   "metadata": {},
   "source": [
    "## Closing Question\n",
    "\n",
    "What is a problem with our evaluation setup with respect to the data? \n",
    "Can we trust our CV results to hold on new data?"
   ]
  },
  {
   "cell_type": "code",
   "execution_count": 107,
   "metadata": {},
   "outputs": [
    {
     "data": {
      "image/png": "[encoded data removed]",
      "text/plain": [
       "<Figure size 720x576 with 1 Axes>"
      ]
     },
     "metadata": {
      "needs_background": "light"
     },
     "output_type": "display_data"
    }
   ],
   "source": [
    "from sklearn.model_selection import learning_curve\n",
    "from sklearn.pipeline import make_pipeline\n",
    "\n",
    "pipeline = make_pipeline(\n",
    "    StandardScaler(),\n",
    "    SVC(kernel='linear', C=1)\n",
    ")\n",
    "\n",
    "train_sizes = np.linspace(0.1, 1.0, 10)\n",
    "\n",
    "train_sizes, train_scores, test_scores = learning_curve(\n",
    "    pipeline,\n",
    "    X_train,\n",
    "    y_train,\n",
    "    train_sizes=train_sizes,\n",
    "    cv=3,\n",
    "    scoring='accuracy'\n",
    ")\n",
    "\n",
    "train_mean = np.mean(train_scores, axis=1)\n",
    "train_std = np.std(train_scores, axis=1)\n",
    "test_mean = np.mean(test_scores, axis=1)\n",
    "test_std = np.std(test_scores, axis=1)\n",
    "\n",
    "plt.figure(figsize=(10, 8))\n",
    "plt.plot(train_sizes, train_mean, color='black', marker='o', markersize=5, label='Training Accuracy')\n",
    "plt.fill_between(train_sizes, train_mean + train_std, train_mean - train_std, alpha=0.15, color='black')\n",
    "plt.plot(train_sizes, test_mean, color='red', linestyle='--', marker='s', markersize=5, label='Testing Accuracy')\n",
    "plt.fill_between(train_sizes, test_mean + test_std, test_mean - test_std, alpha=0.15, color='pink')\n",
    "plt.grid()\n",
    "plt.xlabel('Number of training data')\n",
    "plt.ylabel('Accuracy')\n",
    "plt.legend(loc='lower right')\n",
    "plt.ylim([0.5, 1.0])\n",
    "plt.show()\n",
    "\n",
    "# As you can see the training accuracy is really higher than test accuracy and it means we have a overfitting here."
   ]
  }
 ],
 "metadata": {
  "interpreter": {
   "hash": "1049190e883849ee6b30e36ad21deeaf7669fd35019ab39c05d9cb5e110dff66"
  },
  "kernelspec": {
   "display_name": "Python 3",
   "language": "python",
   "name": "python3"
  },
  "language_info": {
   "codemirror_mode": {
    "name": "ipython",
    "version": 3
   },
   "file_extension": ".py",
   "mimetype": "text/x-python",
   "name": "python",
   "nbconvert_exporter": "python",
   "pygments_lexer": "ipython3",
   "version": "3.8.8"
  }
 },
 "nbformat": 4,
 "nbformat_minor": 4
}
